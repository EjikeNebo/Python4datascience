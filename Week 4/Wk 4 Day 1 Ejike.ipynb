{
 "cells": [
  {
   "cell_type": "code",
   "execution_count": 1,
   "id": "8169bd68",
   "metadata": {},
   "outputs": [
    {
     "name": "stdout",
     "output_type": "stream",
     "text": [
      "['Sandra', 'Joe', 'John', 'Ejike']\n"
     ]
    }
   ],
   "source": [
    "my_list = ['Sandra', 'Joe', 'John']\n",
    "my_list.append('Ejike')\n",
    "print(my_list)"
   ]
  },
  {
   "cell_type": "code",
   "execution_count": 2,
   "id": "b877d01a",
   "metadata": {},
   "outputs": [
    {
     "name": "stdout",
     "output_type": "stream",
     "text": [
      "['Sandra', 'Morayo', 'Joe', 'John', 'Ejike']\n"
     ]
    }
   ],
   "source": [
    "my_list.insert(1,'Morayo')\n",
    "print(my_list)"
   ]
  },
  {
   "cell_type": "code",
   "execution_count": 3,
   "id": "62430f06",
   "metadata": {},
   "outputs": [
    {
     "name": "stdout",
     "output_type": "stream",
     "text": [
      "['Sandra', 'Morayo', 'John', 'Ejike']\n"
     ]
    }
   ],
   "source": [
    "my_list.remove('Joe')\n",
    "print(my_list)"
   ]
  },
  {
   "cell_type": "code",
   "execution_count": 4,
   "id": "f51995cd",
   "metadata": {},
   "outputs": [
    {
     "name": "stdout",
     "output_type": "stream",
     "text": [
      "['Sandra', 'Morayo', 'John', 'Ejike']\n"
     ]
    }
   ],
   "source": [
    "class_a = my_list.copy()\n",
    "print(class_a)"
   ]
  },
  {
   "cell_type": "code",
   "execution_count": 6,
   "id": "4ce4e675",
   "metadata": {},
   "outputs": [
    {
     "name": "stdout",
     "output_type": "stream",
     "text": [
      "['Sandra', 'Morayo', 'John', 'Ejike', 'Toyin', 'Esther', 'Sam', 'Anu']\n"
     ]
    }
   ],
   "source": [
    "class_b = ['Toyin', 'Esther', 'Sam', 'Anu']\n",
    "class_a.extend(class_b)\n",
    "print(class_a)"
   ]
  },
  {
   "cell_type": "code",
   "execution_count": 7,
   "id": "d1044cc2",
   "metadata": {},
   "outputs": [
    {
     "name": "stdout",
     "output_type": "stream",
     "text": [
      "['Anu', 'Ejike', 'Esther', 'John', 'Morayo', 'Sam', 'Sandra', 'Toyin']\n"
     ]
    }
   ],
   "source": [
    "class_a.sort()\n",
    "print(class_a)"
   ]
  },
  {
   "cell_type": "code",
   "execution_count": 8,
   "id": "3dd8db4c",
   "metadata": {},
   "outputs": [
    {
     "name": "stdout",
     "output_type": "stream",
     "text": [
      "['Toyin', 'Sandra', 'Sam', 'Morayo', 'John', 'Esther', 'Ejike', 'Anu']\n"
     ]
    }
   ],
   "source": [
    "class_a.reverse()\n",
    "print(class_a)"
   ]
  },
  {
   "cell_type": "code",
   "execution_count": 9,
   "id": "e84a0230",
   "metadata": {},
   "outputs": [
    {
     "name": "stdout",
     "output_type": "stream",
     "text": [
      "['Toyin', 'Sandra', 'Sam', 'Morayo', 'John', 'Esther', 'Ejike', 'Anu', 'John']\n"
     ]
    }
   ],
   "source": [
    "class_a.append('John')\n",
    "print(class_a)"
   ]
  },
  {
   "cell_type": "code",
   "execution_count": 10,
   "id": "d372cad0",
   "metadata": {},
   "outputs": [
    {
     "name": "stdout",
     "output_type": "stream",
     "text": [
      "2\n"
     ]
    }
   ],
   "source": [
    "name_count = class_a.count('John')\n",
    "print(name_count)"
   ]
  },
  {
   "cell_type": "code",
   "execution_count": 11,
   "id": "5ee088ce",
   "metadata": {},
   "outputs": [
    {
     "name": "stdout",
     "output_type": "stream",
     "text": [
      "Toyin count = 1\n",
      "Sandra count = 1\n",
      "Sam count = 1\n",
      "Morayo count = 1\n",
      "John count = 2\n",
      "Esther count = 1\n",
      "Ejike count = 1\n",
      "Anu count = 1\n",
      "John count = 2\n"
     ]
    }
   ],
   "source": [
    "for name in class_a:\n",
    "    print(name, 'count =', class_a.count(name))"
   ]
  },
  {
   "cell_type": "code",
   "execution_count": null,
   "id": "621a5196",
   "metadata": {},
   "outputs": [],
   "source": []
  },
  {
   "cell_type": "code",
   "execution_count": 12,
   "id": "496f0d1c",
   "metadata": {},
   "outputs": [
    {
     "name": "stdout",
     "output_type": "stream",
     "text": [
      "John count = 1\n"
     ]
    }
   ],
   "source": [
    "for name in class_a:\n",
    "    if class_a.count(name) > 1:\n",
    "        class_a.remove(name)\n",
    "print(name, 'count =', class_a.count(name))"
   ]
  },
  {
   "cell_type": "code",
   "execution_count": 17,
   "id": "048158d6",
   "metadata": {},
   "outputs": [
    {
     "name": "stdout",
     "output_type": "stream",
     "text": [
      "['Toyin', 'Sandra', 'Sam', 'Morayo', 'Esther', 'Ejike', 'Anu', 'John']\n"
     ]
    }
   ],
   "source": [
    "for name in class_a:\n",
    "    if class_a.count(name) > 1:\n",
    "        class_a.remove(name)\n",
    "print(class_a)"
   ]
  },
  {
   "cell_type": "code",
   "execution_count": 20,
   "id": "1ebe8172",
   "metadata": {},
   "outputs": [
    {
     "name": "stdout",
     "output_type": "stream",
     "text": [
      "['Toyin', 'Sandra', 'Sam', 'Morayo', 'John', 'John', 'John', 'Esther', 'Ejike', 'Anu', 'John']\n",
      "Toyin count = 1\n",
      "Sandra count = 1\n",
      "Sam count = 1\n",
      "Morayo count = 1\n",
      "John count = 4\n",
      "Esther count = 1\n",
      "Ejike count = 1\n",
      "Anu count = 1\n"
     ]
    }
   ],
   "source": [
    "check_list = []\n",
    "class_a.insert(4, 'John') # so because in trying to run this with the mistakes 3 times \n",
    "                        #(notice In [20] from the previous In [17], i now have a total of 4 John's)\n",
    "print(class_a)\n",
    "for name in class_a:\n",
    "    if name not in check_list:\n",
    "        check_list.append(name)\n",
    "        print(name, 'count =', class_a.count(name))"
   ]
  },
  {
   "cell_type": "code",
   "execution_count": 23,
   "id": "d789a0d0",
   "metadata": {},
   "outputs": [
    {
     "name": "stdout",
     "output_type": "stream",
     "text": [
      "['Toyin', 'Sandra', 'Sam', 'Morayo', 'John', 'Esther', 'Ejike', 'Anu', 'John']\n",
      "Toyin count = 1\n",
      "Sandra count = 1\n",
      "Sam count = 1\n",
      "Morayo count = 1\n",
      "John count = 2\n",
      "Esther count = 1\n",
      "Ejike count = 1\n",
      "Anu count = 1\n"
     ]
    }
   ],
   "source": [
    "check_list = []\n",
    "class_a.remove('John') # so after adding remove John, I ran it 2 times to reduce John to 2\n",
    "print(class_a)\n",
    "for name in class_a:\n",
    "    if name not in check_list:\n",
    "        check_list.append(name)\n",
    "        print(name, 'count =', class_a.count(name))"
   ]
  },
  {
   "cell_type": "code",
   "execution_count": null,
   "id": "e7b0f94b",
   "metadata": {},
   "outputs": [],
   "source": []
  }
 ],
 "metadata": {
  "kernelspec": {
   "display_name": "Python 3 (ipykernel)",
   "language": "python",
   "name": "python3"
  },
  "language_info": {
   "codemirror_mode": {
    "name": "ipython",
    "version": 3
   },
   "file_extension": ".py",
   "mimetype": "text/x-python",
   "name": "python",
   "nbconvert_exporter": "python",
   "pygments_lexer": "ipython3",
   "version": "3.9.7"
  }
 },
 "nbformat": 4,
 "nbformat_minor": 5
}
