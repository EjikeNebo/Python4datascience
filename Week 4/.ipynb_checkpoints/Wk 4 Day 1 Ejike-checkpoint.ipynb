{
 "cells": [
  {
   "cell_type": "code",
   "execution_count": 1,
   "id": "c45e44fa",
   "metadata": {},
   "outputs": [
    {
     "name": "stdout",
     "output_type": "stream",
     "text": [
      "['Sandra', 'Joe', 'John', 'Ejike']\n"
     ]
    }
   ],
   "source": [
    "my_list = ['Sandra', 'Joe', 'John']\n",
    "my_list.append('Ejike')\n",
    "print(my_list)"
   ]
  },
  {
   "cell_type": "code",
   "execution_count": 2,
   "id": "578448ba",
   "metadata": {},
   "outputs": [
    {
     "name": "stdout",
     "output_type": "stream",
     "text": [
      "['Sandra', 'Morayo', 'Joe', 'John', 'Ejike']\n"
     ]
    }
   ],
   "source": [
    "my_list.insert(1,'Morayo')\n",
    "print(my_list)"
   ]
  },
  {
   "cell_type": "code",
   "execution_count": 3,
   "id": "a6448e65",
   "metadata": {},
   "outputs": [
    {
     "name": "stdout",
     "output_type": "stream",
     "text": [
      "['Sandra', 'Morayo', 'John', 'Ejike']\n"
     ]
    }
   ],
   "source": [
    "my_list.remove('Joe')\n",
    "print(my_list)"
   ]
  },
  {
   "cell_type": "code",
   "execution_count": 4,
   "id": "0f2cce85",
   "metadata": {},
   "outputs": [
    {
     "name": "stdout",
     "output_type": "stream",
     "text": [
      "['Sandra', 'Morayo', 'John', 'Ejike']\n"
     ]
    }
   ],
   "source": [
    "class_a = my_list.copy()\n",
    "print(class_a)"
   ]
  },
  {
   "cell_type": "code",
   "execution_count": 6,
   "id": "628b1f51",
   "metadata": {},
   "outputs": [
    {
     "name": "stdout",
     "output_type": "stream",
     "text": [
      "['Sandra', 'Morayo', 'John', 'Ejike', 'Toyin', 'Esther', 'Sam', 'Anu']\n"
     ]
    }
   ],
   "source": [
    "class_b = ['Toyin', 'Esther', 'Sam', 'Anu']\n",
    "class_a.extend(class_b)\n",
    "print(class_a)"
   ]
  },
  {
   "cell_type": "code",
   "execution_count": null,
   "id": "49a97fe2",
   "metadata": {},
   "outputs": [],
   "source": []
  },
  {
   "cell_type": "code",
   "execution_count": null,
   "id": "e59b88e6",
   "metadata": {},
   "outputs": [],
   "source": []
  }
 ],
 "metadata": {
  "kernelspec": {
   "display_name": "Python 3 (ipykernel)",
   "language": "python",
   "name": "python3"
  },
  "language_info": {
   "codemirror_mode": {
    "name": "ipython",
    "version": 3
   },
   "file_extension": ".py",
   "mimetype": "text/x-python",
   "name": "python",
   "nbconvert_exporter": "python",
   "pygments_lexer": "ipython3",
   "version": "3.9.7"
  }
 },
 "nbformat": 4,
 "nbformat_minor": 5
}
