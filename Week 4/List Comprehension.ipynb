{
 "cells": [
  {
   "cell_type": "code",
   "execution_count": 19,
   "id": "22ab015b",
   "metadata": {},
   "outputs": [
    {
     "name": "stdout",
     "output_type": "stream",
     "text": [
      "[[1, 11]]\n",
      "[[1, 11], [2, 12]]\n",
      "[[1, 11], [2, 12], [3, 13]]\n",
      "[[1, 11], [2, 12], [3, 13], [4, 14]]\n"
     ]
    }
   ],
   "source": [
    "# To create a new list from two lists in a corresponding way using List Comprehension\n",
    "list_1 = [1,2,3,4]\n",
    "list_2 = [11,12,13,14]\n",
    "length = len(list_1)\n",
    "#Target list will be new_list = [[1,11], [2,12], [3,13], [4,14]]\n",
    "new_list = []\n",
    "for i in range(length):\n",
    "    sub_list = [list_1[i], list_2[i]]\n",
    "    new_list.append(sub_list)\n",
    "    print(new_list)"
   ]
  },
  {
   "cell_type": "code",
   "execution_count": 20,
   "id": "39aabd1b",
   "metadata": {},
   "outputs": [
    {
     "name": "stdout",
     "output_type": "stream",
     "text": [
      "[[1, 11], [2, 12], [3, 13], [4, 14]]\n"
     ]
    }
   ],
   "source": [
    "# To create a new list from two lists in a corresponding way using List Comprehension\n",
    "list_1 = [1,2,3,4]\n",
    "list_2 = [11,12,13,14]\n",
    "length = len(list_1)\n",
    "#Target list will be new_list = [[1,11], [2,12], [3,13], [4,14]]\n",
    "new_list = []\n",
    "for i in range(length):\n",
    "    sub_list = [list_1[i], list_2[i]]\n",
    "    new_list.append(sub_list)\n",
    "print(new_list) # Notice the result of the identation"
   ]
  },
  {
   "cell_type": "code",
   "execution_count": 21,
   "id": "d950333b",
   "metadata": {},
   "outputs": [
    {
     "name": "stdout",
     "output_type": "stream",
     "text": [
      "[11, 24, 39, 56]\n"
     ]
    }
   ],
   "source": [
    "list_multiplied = []\n",
    "for i in range(length):\n",
    "    multiplied = list_1[i]*list_2[i]\n",
    "    list_multiplied.append(multiplied)\n",
    "print(list_multiplied)"
   ]
  },
  {
   "cell_type": "code",
   "execution_count": 13,
   "id": "5157ae57",
   "metadata": {},
   "outputs": [
    {
     "name": "stdout",
     "output_type": "stream",
     "text": [
      "[[1, 11], [2, 12], [3, 13], [4, 14], [5, 15], [6, 16]]\n",
      "--------------------\n",
      "[[1, 11], [2, 12], [3, 13], [4, 14], [5, 15], [6, 16]]\n"
     ]
    }
   ],
   "source": [
    "# To create a new list from two lists in a corresponding way using List Comprehension\n",
    "list_1 = [1,2,3,4,5,6]\n",
    "list_2 = [11,12,13,14,15,16]\n",
    "length = len(list_1)\n",
    "#Target list will be new_list = [[1,11], [2,12], [3,13], [4,14]]\n",
    "new_list = []\n",
    "for i in range(length):\n",
    "    sub_list = [list_1[i], list_2[i]]\n",
    "    new_list.append(sub_list)\n",
    "print(new_list)\n",
    "\n",
    "print(20*'-')\n",
    "\n",
    "# So using List comprehension now instead of for Loop used above\n",
    "new_list1 = [[list_1[i],list_2[i]] for i in range(len(list_1))]\n",
    "print(new_list1)"
   ]
  },
  {
   "cell_type": "code",
   "execution_count": 18,
   "id": "a513c24a",
   "metadata": {},
   "outputs": [
    {
     "name": "stdout",
     "output_type": "stream",
     "text": [
      "[11, 24, 39, 56, 75, 96]\n",
      "--------------------\n",
      "[11, 24, 39, 56, 75, 96]\n"
     ]
    }
   ],
   "source": [
    "list_multiplied = []\n",
    "for i in range(length):\n",
    "    multiplied = list_1[i]*list_2[i]\n",
    "    list_multiplied.append(multiplied)\n",
    "print(list_multiplied)\n",
    "\n",
    "print(20*'-')\n",
    "\n",
    "# So using List comprehension now instead of for Loop used above\n",
    "list_multiplied = [list_1[i] * list_2[i] for i in range(len(list_1))]\n",
    "print(list_multiplied)"
   ]
  },
  {
   "cell_type": "code",
   "execution_count": 22,
   "id": "1a05bdde",
   "metadata": {},
   "outputs": [
    {
     "name": "stdout",
     "output_type": "stream",
     "text": [
      "[12, 14, 16, 18]\n",
      "--------------------\n",
      "[12, 14, 16, 18]\n"
     ]
    }
   ],
   "source": [
    "list_Added = []\n",
    "for i in range(length):\n",
    "    Added = list_1[i]+list_2[i]\n",
    "    list_Added.append(Added)\n",
    "print(list_Added)\n",
    "\n",
    "print(20*'-')\n",
    "\n",
    "# So using List comprehension now instead of for Loop used above\n",
    "list_Added = [list_1[i] + list_2[i] for i in range(len(list_1))]\n",
    "print(list_Added)"
   ]
  },
  {
   "cell_type": "code",
   "execution_count": null,
   "id": "9819743d",
   "metadata": {},
   "outputs": [],
   "source": [
    "LIST_A = ['Ejike','Morayo','Toyin','Anu']\n",
    "LIST_B = [1, 2, 3, 4]\n",
    "length = len(LIST_A)\n",
    "list_Added = []\n",
    "for i in range(length):\n",
    "    Added = LIST_A[i]+LIST_B[i]\n",
    "    list_Added.append(Added)\n",
    "print(list_Added)\n",
    "\n",
    "print(20*'-')\n",
    "\n",
    "# So using List comprehension now instead of for Loop used above\n",
    "list_Added = [list_1[i] + list_2[i] for i in range(len(list_1))]\n",
    "print(list_Added)"
   ]
  },
  {
   "cell_type": "code",
   "execution_count": 27,
   "id": "29c4aa13",
   "metadata": {},
   "outputs": [
    {
     "name": "stdout",
     "output_type": "stream",
     "text": [
      "['Ejike is = 1', 'Morayo is = 2', 'Toyin is = 3', 'Anu is = 4']\n"
     ]
    }
   ],
   "source": [
    "LIST_A = ['Ejike','Morayo','Toyin','Anu']\n",
    "LIST_B = [1, 2, 3, 4]\n",
    "length = len(LIST_A)\n",
    "list_Added = []\n",
    "for i in range(length):\n",
    "    Added = LIST_A[i]+ ' is = ' + str(LIST_B[i])\n",
    "    list_Added.append(Added)\n",
    "print(list_Added)"
   ]
  },
  {
   "cell_type": "code",
   "execution_count": 33,
   "id": "5230acef",
   "metadata": {},
   "outputs": [
    {
     "name": "stdout",
     "output_type": "stream",
     "text": [
      "['Ejike is = 1', 'Morayo is = 2', 'Toyin is = 3', 'Anu is = 4']\n",
      "--------------------------------------------------------------------------------\n",
      "['Ejike is = 1', 'Morayo is = 2', 'Toyin is = 3', 'Anu is = 4']\n"
     ]
    }
   ],
   "source": [
    "LIST_A = ['Ejike','Morayo','Toyin','Anu']\n",
    "LIST_B = [1, 2, 3, 4]\n",
    "length = len(LIST_A)\n",
    "list_Added = []\n",
    "for i in range(length):\n",
    "    Added = LIST_A[i]+ ' is = ' + str(LIST_B[i])\n",
    "    list_Added.append(Added)\n",
    "print(list_Added)\n",
    "\n",
    "print(20*'----')\n",
    "\n",
    "list_Added = [LIST_A[i] +' is = '+ str(LIST_B[i]) for i in range(len(LIST_A))]\n",
    "print(list_Added)"
   ]
  },
  {
   "cell_type": "code",
   "execution_count": 35,
   "id": "ac4059b7",
   "metadata": {},
   "outputs": [
    {
     "name": "stdout",
     "output_type": "stream",
     "text": [
      "nhoJ \n"
     ]
    }
   ],
   "source": [
    "#Reversing a string with a loop\n",
    "text_str = 'John'\n",
    "reversed_str = ' '\n",
    "for i in text_str:\n",
    "    reversed_str = i + reversed_str\n",
    "print(reversed_str)"
   ]
  },
  {
   "cell_type": "code",
   "execution_count": 36,
   "id": "96081dae",
   "metadata": {},
   "outputs": [
    {
     "name": "stdout",
     "output_type": "stream",
     "text": [
      "nhoJ\n"
     ]
    }
   ],
   "source": [
    "#Reversing a string using Slicing\n",
    "text_str = 'John'\n",
    "reversed_str = text_str [::-1]\n",
    "print(reversed_str)"
   ]
  },
  {
   "cell_type": "code",
   "execution_count": 38,
   "id": "4f8668c1",
   "metadata": {},
   "outputs": [
    {
     "name": "stdout",
     "output_type": "stream",
     "text": [
      "nshJ\n"
     ]
    }
   ],
   "source": [
    "#Reversing a string using Slicing\n",
    "text_str = 'Johnson'\n",
    "reversed_str = text_str [::-2]\n",
    "print(reversed_str)"
   ]
  },
  {
   "cell_type": "code",
   "execution_count": 44,
   "id": "af1a6d24",
   "metadata": {},
   "outputs": [
    {
     "name": "stdout",
     "output_type": "stream",
     "text": [
      "nosnhoJrevelC\n"
     ]
    }
   ],
   "source": [
    "#Reversing a string using Slicing\n",
    "text_str = 'CleverJohnson'\n",
    "reversed_str = text_str [::-1]\n",
    "print(reversed_str)"
   ]
  },
  {
   "cell_type": "code",
   "execution_count": 45,
   "id": "d360dad7",
   "metadata": {},
   "outputs": [
    {
     "name": "stdout",
     "output_type": "stream",
     "text": [
      "nshJeeC\n"
     ]
    }
   ],
   "source": [
    "#Reversing a string using Slicing\n",
    "text_str = 'CleverJohnson'\n",
    "reversed_str = text_str [::-2]\n",
    "print(reversed_str)"
   ]
  },
  {
   "cell_type": "code",
   "execution_count": 46,
   "id": "e641071a",
   "metadata": {},
   "outputs": [
    {
     "name": "stdout",
     "output_type": "stream",
     "text": [
      "nnJvC\n"
     ]
    }
   ],
   "source": [
    "#Reversing a string using Slicing\n",
    "text_str = 'CleverJohnson'\n",
    "reversed_str = text_str [::-3]\n",
    "print(reversed_str)"
   ]
  },
  {
   "cell_type": "code",
   "execution_count": 47,
   "id": "714e57c4",
   "metadata": {},
   "outputs": [
    {
     "name": "stdout",
     "output_type": "stream",
     "text": [
      "nheC\n"
     ]
    }
   ],
   "source": [
    "#Reversing a string using Slicing\n",
    "text_str = 'CleverJohnson'\n",
    "reversed_str = text_str [::-4]\n",
    "print(reversed_str)"
   ]
  },
  {
   "cell_type": "code",
   "execution_count": null,
   "id": "18be4eaa",
   "metadata": {},
   "outputs": [],
   "source": []
  }
 ],
 "metadata": {
  "kernelspec": {
   "display_name": "Python 3 (ipykernel)",
   "language": "python",
   "name": "python3"
  },
  "language_info": {
   "codemirror_mode": {
    "name": "ipython",
    "version": 3
   },
   "file_extension": ".py",
   "mimetype": "text/x-python",
   "name": "python",
   "nbconvert_exporter": "python",
   "pygments_lexer": "ipython3",
   "version": "3.9.7"
  }
 },
 "nbformat": 4,
 "nbformat_minor": 5
}
