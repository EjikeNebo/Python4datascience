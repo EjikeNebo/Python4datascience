{
 "cells": [
  {
   "cell_type": "code",
   "execution_count": 3,
   "id": "6886a1fa",
   "metadata": {},
   "outputs": [
    {
     "name": "stdout",
     "output_type": "stream",
     "text": [
      "Please enter your birth year (e.g.) 1900: 1960\n",
      "\n",
      "Enter your birth year (e.g.) 2023: 2023\n",
      "\n",
      "Your age is: 63\n"
     ]
    }
   ],
   "source": [
    "# --> This program calculates the age of a person.\n",
    "Birth_year = int (input (\"Please enter your birth year (e.g.) 1900: \"))\n",
    "Current_year = int (input (\"\\nEnter your birth year (e.g.) 2023: \"))\n",
    "Age = Current_year - Birth_year\n",
    "\n",
    "print (\"\\nYour age is: \" + str(Age))\n"
   ]
  },
  {
   "cell_type": "code",
   "execution_count": 12,
   "id": "9c749bef",
   "metadata": {},
   "outputs": [
    {
     "name": "stdout",
     "output_type": "stream",
     "text": [
      "Enter the base of the triangle in cm here: 4\n",
      "\n",
      "Enter the Height of the triangle in cm here: 6.1\n",
      "\n",
      "The area of the triangle is: 12.2cm squared\n"
     ]
    }
   ],
   "source": [
    "# This Program accepts parameters to calculate the Area of a Traingle (ie Half base x Height)\n",
    "triangle_base = float(input(\"Enter the base of the triangle in cm here: \")) # most conventional naming whereby you have a variable name with two words\n",
    "triangleHeight = float(input(\"\\nEnter the Height of the triangle in cm here: \"))# Camel case variable writing\n",
    "Area = triangle_base*(1/2)*triangleHeight\n",
    "print (\"\\nThe area of the triangle is: \" + str(Area)+\"cm squared\" )"
   ]
  },
  {
   "cell_type": "code",
   "execution_count": null,
   "id": "782ebba4",
   "metadata": {},
   "outputs": [],
   "source": []
  }
 ],
 "metadata": {
  "kernelspec": {
   "display_name": "Python 3 (ipykernel)",
   "language": "python",
   "name": "python3"
  },
  "language_info": {
   "codemirror_mode": {
    "name": "ipython",
    "version": 3
   },
   "file_extension": ".py",
   "mimetype": "text/x-python",
   "name": "python",
   "nbconvert_exporter": "python",
   "pygments_lexer": "ipython3",
   "version": "3.9.7"
  }
 },
 "nbformat": 4,
 "nbformat_minor": 5
}
