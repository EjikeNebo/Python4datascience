{
 "cells": [
  {
   "cell_type": "code",
   "execution_count": 8,
   "id": "bdb30808",
   "metadata": {},
   "outputs": [
    {
     "name": "stdout",
     "output_type": "stream",
     "text": [
      "0\n",
      "1\n",
      "2\n",
      "3\n",
      "4\n",
      "5\n",
      "6\n",
      "7\n",
      "8\n",
      "9\n"
     ]
    }
   ],
   "source": [
    "# Using built-in functions\n",
    "number_range = range(10)\n",
    "for i in number_range:\n",
    "    print(i)"
   ]
  },
  {
   "cell_type": "code",
   "execution_count": 13,
   "id": "212771a1",
   "metadata": {},
   "outputs": [],
   "source": [
    "number_range_with_step = range(20, 2)\n",
    "for i in number_range_with_step:\n",
    "    print(i)\n",
    "    i"
   ]
  },
  {
   "cell_type": "code",
   "execution_count": 15,
   "id": "4074b4c0",
   "metadata": {},
   "outputs": [
    {
     "name": "stdout",
     "output_type": "stream",
     "text": [
      "<reversed object at 0x000001E1873FE790>\n"
     ]
    }
   ],
   "source": [
    "b = 'Tunde'\n",
    "reversed_b = reversed(b)\n",
    "print(reversed_b)"
   ]
  },
  {
   "cell_type": "code",
   "execution_count": 16,
   "id": "bcffc901",
   "metadata": {},
   "outputs": [
    {
     "name": "stdout",
     "output_type": "stream",
     "text": [
      "2\n",
      "4\n",
      "6\n",
      "8\n",
      "10\n",
      "12\n",
      "14\n",
      "16\n",
      "18\n",
      "20\n"
     ]
    }
   ],
   "source": [
    "number_range = range(2,22,2)\n",
    "for i in number_range:\n",
    "    print(i)"
   ]
  },
  {
   "cell_type": "code",
   "execution_count": 27,
   "id": "54256676",
   "metadata": {},
   "outputs": [
    {
     "name": "stdout",
     "output_type": "stream",
     "text": [
      "[20, 30, 40, 35]\n",
      "Sam max score is40\n",
      "Sam min score is20\n"
     ]
    }
   ],
   "source": [
    "# list\n",
    "sam = [20,30,40,35]\n",
    "print(sam)\n",
    "sam_max_score = max(sam)\n",
    "print(\"Sam max score is\" + str(sam_max_score))\n",
    "sam_min_score = min(sam)\n",
    "print(\"Sam min score is\" + str(sam_min_score))"
   ]
  },
  {
   "cell_type": "code",
   "execution_count": 29,
   "id": "c28a6ccc",
   "metadata": {},
   "outputs": [
    {
     "name": "stdout",
     "output_type": "stream",
     "text": [
      "[20, 30, 40, 35]\n",
      "\n",
      "Sam max score is 40\n",
      "\n",
      "Sam min score is 20\n",
      "\n",
      "Sam's total score is 125\n"
     ]
    }
   ],
   "source": [
    "# list\n",
    "sam = [20,30,40,35]\n",
    "print(sam)\n",
    "sam_max_score = max(sam)\n",
    "print(\"\\nSam max score is \" + str(sam_max_score))\n",
    "sam_min_score = min(sam)\n",
    "print(\"\\nSam min score is \" + str(sam_min_score))\n",
    "sam_sum_score = sum(sam)\n",
    "print(\"\\nSam's total score is \" + str(sam_sum_score))"
   ]
  },
  {
   "cell_type": "code",
   "execution_count": 30,
   "id": "64f23af6",
   "metadata": {},
   "outputs": [
    {
     "name": "stdout",
     "output_type": "stream",
     "text": [
      "[20, 30, 40, 35]\n",
      "\n",
      "Sam max score is 40\n",
      "\n",
      "Sam min score is 20\n",
      "\n",
      "Sam's total score is 125\n",
      "\n",
      "Number of Subjects take by Sam is 4\n"
     ]
    }
   ],
   "source": [
    "# list\n",
    "sam = [20,30,40,35]\n",
    "print(sam)\n",
    "sam_max_score = max(sam)\n",
    "print(\"\\nSam max score is \" + str(sam_max_score))\n",
    "\n",
    "sam_min_score = min(sam)\n",
    "print(\"\\nSam min score is \" + str(sam_min_score))\n",
    "\n",
    "sam_sum_score = sum(sam)\n",
    "print(\"\\nSam's total score is \" + str(sam_sum_score))\n",
    "\n",
    "no_of_subjects = len(sam)\n",
    "print(\"\\nNumber of Subjects take by Sam is \" + str(no_of_subjects))"
   ]
  },
  {
   "cell_type": "code",
   "execution_count": 40,
   "id": "51898e87",
   "metadata": {},
   "outputs": [
    {
     "name": "stdout",
     "output_type": "stream",
     "text": [
      "\n",
      "text_a_lowercase\n",
      "\n",
      "text_a_uppercase\n",
      "hELLO wORLD\n"
     ]
    },
    {
     "data": {
      "text/plain": [
       "str"
      ]
     },
     "execution_count": 40,
     "metadata": {},
     "output_type": "execute_result"
    }
   ],
   "source": [
    "# Common Built-in String Functions\n",
    "\n",
    "text_a = \"Hello World\"\n",
    "text_a_lowercase = text_a.lower() #--> returns the lowercase variant of the string\n",
    "print(\"\\ntext_a_lowercase\")\n",
    "\n",
    "\n",
    "text_a_uppercase = text_a.upper()#--> returns the uppercase variant of the string\n",
    "print(\"\\ntext_a_uppercase\")\n",
    "\n",
    "text_a_caseswap = text_a.swapcase()\n",
    "print(text_a_caseswap)\n",
    "type(text_a_caseswap)\n"
   ]
  },
  {
   "cell_type": "code",
   "execution_count": 42,
   "id": "379fdef3",
   "metadata": {},
   "outputs": [
    {
     "name": "stdout",
     "output_type": "stream",
     "text": [
      "\n",
      "text_a_lowercase\n",
      "\n",
      "text_a_uppercase\n",
      "hELLO wORLD\n",
      "<class 'str'>\n",
      "<class 'list'>\n",
      "['Morayo', 'Ejike', 'Anuoluwa', 'Esther', 'Toyin']\n"
     ]
    }
   ],
   "source": [
    "# Common Built-in String Functions\n",
    "\n",
    "text_a = \"Hello World\"\n",
    "text_a_lowercase = text_a.lower() #--> returns the lowercase variant of the string\n",
    "print(\"\\ntext_a_lowercase\")\n",
    "\n",
    "\n",
    "text_a_uppercase = text_a.upper()#--> returns the uppercase variant of the string\n",
    "print(\"\\ntext_a_uppercase\")\n",
    "\n",
    "text_a_caseswap = text_a.swapcase()\n",
    "print(text_a_caseswap)\n",
    "type(text_a_caseswap)\n",
    "\n",
    "text_b = \"Morayo-Ejike-Anuoluwa-Esther-Toyin\"\n",
    "print(type(text_b))\n",
    "\n",
    "split_text_b = text_b.split('-')\n",
    "print(type(split_text_b))\n",
    "print(split_text_b)"
   ]
  },
  {
   "cell_type": "code",
   "execution_count": 48,
   "id": "72c7ad1a",
   "metadata": {},
   "outputs": [
    {
     "name": "stdout",
     "output_type": "stream",
     "text": [
      "\n",
      "text_a_lowercase\n",
      "\n",
      "text_a_uppercase\n",
      "hELLO wORLD\n",
      "<class 'str'>\n",
      "Morayo-Ejike-Anuoluwa-Esther-Toyin\n",
      "<class 'list'>\n",
      "['Morayo', 'Ejike', 'Anuoluwa', 'Esther', 'Toyin']\n",
      "<class 'str'>\n",
      "Morayo Ejike Anuoluwa Esther Toyin\n"
     ]
    }
   ],
   "source": [
    "# Common Built-in String Functions\n",
    "\n",
    "text_a = \"Hello World\"\n",
    "text_a_lowercase = text_a.lower() #--> returns the lowercase variant of the string\n",
    "print(\"\\ntext_a_lowercase\")\n",
    "\n",
    "\n",
    "text_a_uppercase = text_a.upper()#--> returns the uppercase variant of the string\n",
    "print(\"\\ntext_a_uppercase\")\n",
    "\n",
    "text_a_caseswap = text_a.swapcase()\n",
    "print(text_a_caseswap)\n",
    "type(text_a_caseswap)\n",
    "\n",
    "text_b = \"Morayo-Ejike-Anuoluwa-Esther-Toyin\"\n",
    "print(type(text_b))\n",
    "print(text_b)\n",
    "\n",
    "#spliting a string into a list\n",
    "split_text_b = text_b.split('-')\n",
    "print(type(split_text_b))\n",
    "print(split_text_b)\n",
    "\n",
    "#converting a list to string using join function\n",
    "joined_text_b = \" \".join(split_text_b)\n",
    "print(type(joined_text_b))\n",
    "print(joined_text_b)\n",
    "\n"
   ]
  },
  {
   "cell_type": "code",
   "execution_count": 49,
   "id": "218672a9",
   "metadata": {},
   "outputs": [
    {
     "name": "stdout",
     "output_type": "stream",
     "text": [
      "\n",
      "text_a_lowercase\n",
      "\n",
      "text_a_uppercase\n",
      "hELLO wORLD\n",
      "<class 'str'>\n",
      "Morayo-Ejike-Anuoluwa-Esther-Toyin\n",
      "<class 'list'>\n",
      "['Morayo', 'Ejike', 'Anuoluwa', 'Esther', 'Toyin']\n",
      "<class 'str'>\n",
      "Morayo Ejike Anuoluwa Esther Toyin\n",
      "Morayo, Ejike, Anuoluwa, Esther, Toyin\n"
     ]
    }
   ],
   "source": [
    "# Common Built-in String Functions\n",
    "\n",
    "text_a = \"Hello World\"\n",
    "text_a_lowercase = text_a.lower() #--> returns the lowercase variant of the string\n",
    "print(\"\\ntext_a_lowercase\")\n",
    "\n",
    "\n",
    "text_a_uppercase = text_a.upper()#--> returns the uppercase variant of the string\n",
    "print(\"\\ntext_a_uppercase\")\n",
    "\n",
    "text_a_caseswap = text_a.swapcase()\n",
    "print(text_a_caseswap)\n",
    "type(text_a_caseswap)\n",
    "\n",
    "text_b = \"Morayo-Ejike-Anuoluwa-Esther-Toyin\"\n",
    "print(type(text_b))\n",
    "print(text_b)\n",
    "\n",
    "#spliting a string into a list\n",
    "split_text_b = text_b.split('-')\n",
    "print(type(split_text_b))\n",
    "print(split_text_b)\n",
    "\n",
    "#converting a list to string using join function\n",
    "joined_text_b = \" \".join(split_text_b)\n",
    "print(type(joined_text_b))\n",
    "print(joined_text_b)\n",
    "\n",
    "#Using the replace function\n",
    "replace_text_b = text_b.replace('-', ', ')\n",
    "print(replace_text_b)"
   ]
  },
  {
   "cell_type": "code",
   "execution_count": 50,
   "id": "ae63f9a5",
   "metadata": {},
   "outputs": [],
   "source": [
    "#Using what you learnt;\n",
    "# format the follwoing text\n",
    "\n",
    "# text_c = \"Door Window; Watch Clock: Laptop Desktop\"\n",
    "\n",
    "# Result = Door Window - Watch Clock - Laptop Desktop\n"
   ]
  },
  {
   "cell_type": "code",
   "execution_count": 55,
   "id": "b3a735be",
   "metadata": {},
   "outputs": [
    {
     "name": "stdout",
     "output_type": "stream",
     "text": [
      "Door Window -  Watch Clock: Laptop Desktop\n"
     ]
    }
   ],
   "source": [
    "text_c = \"Door Window; Watch Clock: Laptop Desktop\"\n",
    "\n",
    "transformed_text_c = text_c.replace(';', ' - ')\n",
    "print(transformed_text_c)"
   ]
  },
  {
   "cell_type": "code",
   "execution_count": null,
   "id": "fb198999",
   "metadata": {},
   "outputs": [],
   "source": []
  }
 ],
 "metadata": {
  "kernelspec": {
   "display_name": "Python 3 (ipykernel)",
   "language": "python",
   "name": "python3"
  },
  "language_info": {
   "codemirror_mode": {
    "name": "ipython",
    "version": 3
   },
   "file_extension": ".py",
   "mimetype": "text/x-python",
   "name": "python",
   "nbconvert_exporter": "python",
   "pygments_lexer": "ipython3",
   "version": "3.9.7"
  }
 },
 "nbformat": 4,
 "nbformat_minor": 5
}
