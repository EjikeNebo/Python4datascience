{
 "cells": [
  {
   "cell_type": "code",
   "execution_count": 7,
   "id": "6837370a",
   "metadata": {},
   "outputs": [
    {
     "name": "stdout",
     "output_type": "stream",
     "text": [
      "Please enter a word here: Clement Nebo\n",
      "Cle\n"
     ]
    }
   ],
   "source": [
    "# A program that fetches the first 3 characters of an Input\n",
    "word = input(\"Please enter a word here: \")\n",
    "Ans = word[0:3]\n",
    "print (Ans)"
   ]
  },
  {
   "cell_type": "code",
   "execution_count": null,
   "id": "1c77b0c2",
   "metadata": {},
   "outputs": [
    {
     "name": "stdout",
     "output_type": "stream",
     "text": [
      "Input a phrase: Clement\n"
     ]
    }
   ],
   "source": [
    "str_word = input('Input a phrase: ')\n",
    "print(str_word[0:3])"
   ]
  },
  {
   "cell_type": "code",
   "execution_count": 14,
   "id": "e7a6a984",
   "metadata": {},
   "outputs": [
    {
     "name": "stdout",
     "output_type": "stream",
     "text": [
      "Your score is: 89.9\n",
      "Your grade is A, your result is Excellent\n"
     ]
    }
   ],
   "source": [
    "# Grading Students' Scores\n",
    "score = float(input(\"Your score is: \"))\n",
    "if score < 40:\n",
    "    print('Your grade is F, you FAILED')\n",
    "elif score <=49 and score >= 40:\n",
    "    print('Your grade is D, your result is FAIR')\n",
    "elif score <=59 and score >= 50:\n",
    "    print('Your grade is C, your result is GOOD')\n",
    "elif score <=69 and score >= 60:\n",
    "    print('Your grade is B, your result is VERY GOOD')\n",
    "elif score >=70 and score <= 100:\n",
    "    print('Your grade is A, your result is Excellent')\n",
    "else:\n",
    "    print('Your grade is A+, your result is EXTRA ORDINARY')"
   ]
  },
  {
   "cell_type": "code",
   "execution_count": 13,
   "id": "5448062c",
   "metadata": {},
   "outputs": [
    {
     "name": "stdout",
     "output_type": "stream",
     "text": [
      "Your score is: 49.9\n",
      "Your score is D, your result is FAIR\n"
     ]
    }
   ],
   "source": [
    "# Notice that our 49.9 reurns Extra Ordinary result, looking closely, you'd realise that '<=49' excludes everythig between 49 and 50\n",
    "# so to correct that, we changed '<=49' to '<50' to allow inclusion there.\n",
    "score = float(input(\"Your score is: \"))\n",
    "if score < 40:\n",
    "    print('Your score is F, you FAILED')\n",
    "elif score <50 and score >= 40:\n",
    "    print('Your score is D, your result is FAIR')\n",
    "elif score <60 and score >= 50:\n",
    "    print('Your score is C, your result is GOOD')\n",
    "elif score <70 and score >= 60:\n",
    "    print('Your score is B, your result is VERY GOOD')\n",
    "elif score >=70 and score <= 100:\n",
    "    print('Your score is A, your result is Excellent')\n",
    "else:\n",
    "    print('Your score is A+, your result is EXTRA ORDINARY')"
   ]
  },
  {
   "cell_type": "code",
   "execution_count": 24,
   "id": "be845a02",
   "metadata": {},
   "outputs": [
    {
     "name": "stdout",
     "output_type": "stream",
     "text": [
      "The Sqare of 1 is = 1\n",
      "The Sqare of 2 is = 4\n",
      "The Sqare of 3 is = 9\n",
      "The Sqare of 4 is = 16\n",
      "The Sqare of 5 is = 25\n",
      "The Sqare of 6 is = 36\n",
      "The Sqare of 7 is = 49\n",
      "The Sqare of 8 is = 64\n",
      "The Sqare of 9 is = 81\n",
      "The Sqare of 10 is = 100\n",
      "The Sqare of 11 is = 121\n",
      "The Sqare of 12 is = 144\n",
      "The Sqare of 13 is = 169\n",
      "The Sqare of 14 is = 196\n",
      "The Sqare of 15 is = 225\n",
      "The Sqare of 16 is = 256\n",
      "The Sqare of 17 is = 289\n",
      "The Sqare of 18 is = 324\n",
      "The Sqare of 19 is = 361\n",
      "The Sqare of 20 is = 400\n"
     ]
    }
   ],
   "source": [
    "# Write a program that squares the numbers between 1 and 20\n",
    "# eg 1,2,3,4,5,...,20 and there squares are 1,4,9,16,25,...,400\n",
    "# mind you, the formular for range is range(1,n-1) where n is the upper limit number so if n-1 = 21; thus, n = 20\n",
    "for i in range(1,21):\n",
    "    square = i**2\n",
    "    print('The Sqare of',i,'is =', square)"
   ]
  },
  {
   "cell_type": "code",
   "execution_count": 23,
   "id": "f760c98d",
   "metadata": {},
   "outputs": [
    {
     "name": "stdout",
     "output_type": "stream",
     "text": [
      "The Cube of 1 is = 1\n",
      "The Cube of 2 is = 8\n",
      "The Cube of 3 is = 27\n",
      "The Cube of 4 is = 64\n",
      "The Cube of 5 is = 125\n",
      "The Cube of 6 is = 216\n",
      "The Cube of 7 is = 343\n",
      "The Cube of 8 is = 512\n",
      "The Cube of 9 is = 729\n",
      "The Cube of 10 is = 1000\n",
      "The Cube of 11 is = 1331\n",
      "The Cube of 12 is = 1728\n",
      "The Cube of 13 is = 2197\n",
      "The Cube of 14 is = 2744\n",
      "The Cube of 15 is = 3375\n",
      "The Cube of 16 is = 4096\n",
      "The Cube of 17 is = 4913\n",
      "The Cube of 18 is = 5832\n",
      "The Cube of 19 is = 6859\n",
      "The Cube of 20 is = 8000\n"
     ]
    }
   ],
   "source": [
    "# Write a program that squares the numbers between 1 and 20\n",
    "# eg 1,2,3,4,5,...,20 and there squares are 1,4,9,16,25,...,400\n",
    "for i in range(1,21):\n",
    "    Cube = i**3\n",
    "    print('The Cube of',i,'is =', Cube)"
   ]
  },
  {
   "cell_type": "code",
   "execution_count": 30,
   "id": "7c3d8d67",
   "metadata": {},
   "outputs": [
    {
     "name": "stdout",
     "output_type": "stream",
     "text": [
      "Mango : 5\n",
      "Orange : 6\n",
      "Banana : 6\n",
      "Cashew : 6\n",
      "Pineapple : 9\n",
      "Apple : 5\n"
     ]
    }
   ],
   "source": [
    "# To loop over a list and print out each item and their length\n",
    "Fruits = ['Mango', 'Orange', 'Banana', 'Cashew', 'Pineapple', 'Apple']\n",
    "for i in Fruits:\n",
    "    print(i,':', len(i)) #"
   ]
  },
  {
   "cell_type": "code",
   "execution_count": 31,
   "id": "fb4d5470",
   "metadata": {},
   "outputs": [
    {
     "name": "stdout",
     "output_type": "stream",
     "text": [
      "Mango : 5\n",
      "Orange : 6\n",
      "Banana : 6\n",
      "Cashew : 6\n",
      "Pineapple : 9\n",
      "Apple : 5\n"
     ]
    }
   ],
   "source": [
    "Fruits = ['Mango', 'Orange', 'Banana', 'Cashew', 'Pineapple', 'Apple']\n",
    "length = len(Fruits)\n",
    "for i in range(length):\n",
    "    print(Fruits[i],':', len(Fruits[i]))"
   ]
  },
  {
   "cell_type": "code",
   "execution_count": 35,
   "id": "dc2cc7a0",
   "metadata": {},
   "outputs": [
    {
     "name": "stdout",
     "output_type": "stream",
     "text": [
      "The lenngth of the range is 6\n",
      "The fruit at index 0 is Mango : 5\n",
      "The fruit at index 1 is Orange : 6\n",
      "The fruit at index 2 is Banana : 6\n",
      "The fruit at index 3 is Cashew : 6\n",
      "The fruit at index 4 is Pineapple : 9\n",
      "The fruit at index 5 is Apple : 5\n"
     ]
    }
   ],
   "source": [
    "Fruits = ['Mango', 'Orange', 'Banana', 'Cashew', 'Pineapple', 'Apple']\n",
    "length = len(Fruits)\n",
    "print(\"The lenngth of the range is\", length)\n",
    "for i in range(length):\n",
    "    print('The fruit at index', i, 'is', Fruits[i],':', len(Fruits[i]))"
   ]
  },
  {
   "cell_type": "code",
   "execution_count": 37,
   "id": "0f08fd49",
   "metadata": {},
   "outputs": [
    {
     "name": "stdout",
     "output_type": "stream",
     "text": [
      "The fruit at index 0 is Mango of length 5\n",
      "The fruit at index 1 is Orange of length 6\n",
      "The fruit at index 2 is Banana of length 6\n",
      "The fruit at index 3 is Cashew of length 6\n",
      "The fruit at index 4 is Pineapple of length 9\n",
      "The fruit at index 5 is Apple of length 5\n"
     ]
    }
   ],
   "source": [
    "# To loop over a list and print out each item and their length using the while loop\n",
    "Fruits = ['Mango', 'Orange', 'Banana', 'Cashew', 'Pineapple', 'Apple']\n",
    "length = len(Fruits)\n",
    "index = 0\n",
    "while index < length:\n",
    "    print('The fruit at index', index, 'is', Fruits[index], 'of length', len(Fruits[index]))\n",
    "    index = index + 1"
   ]
  },
  {
   "cell_type": "code",
   "execution_count": null,
   "id": "59935e79",
   "metadata": {},
   "outputs": [],
   "source": [
    "# To loop over a list and print out each item and their length using the while loop\n",
    "Fruits = ['Mango', 'Orange', 'Banana', 'Cashew', 'Pineapple', 'Apple']\n",
    "length = len(Fruits)\n",
    "index = 0\n",
    "while index < length:\n",
    "    print('The fruit at index', index, 'is', Fruits[index], 'of length', len(Fruits[index]))\n",
    "    index = index + 1 # mind you, this marginal increament by 1 here is what allows us to wriggle out from the loop at the max index"
   ]
  }
 ],
 "metadata": {
  "kernelspec": {
   "display_name": "Python 3 (ipykernel)",
   "language": "python",
   "name": "python3"
  },
  "language_info": {
   "codemirror_mode": {
    "name": "ipython",
    "version": 3
   },
   "file_extension": ".py",
   "mimetype": "text/x-python",
   "name": "python",
   "nbconvert_exporter": "python",
   "pygments_lexer": "ipython3",
   "version": "3.9.7"
  }
 },
 "nbformat": 4,
 "nbformat_minor": 5
}
