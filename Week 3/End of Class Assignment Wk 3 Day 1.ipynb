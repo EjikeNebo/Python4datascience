{
 "cells": [
  {
   "cell_type": "code",
   "execution_count": 1,
   "id": "bc4e4f55",
   "metadata": {},
   "outputs": [
    {
     "name": "stdout",
     "output_type": "stream",
     "text": [
      "The Cube of 1 is = 1\n",
      "The Cube of 2 is = 8\n",
      "The Cube of 3 is = 27\n",
      "The Cube of 4 is = 64\n",
      "The Cube of 5 is = 125\n",
      "The Cube of 6 is = 216\n",
      "The Cube of 7 is = 343\n",
      "The Cube of 8 is = 512\n",
      "The Cube of 9 is = 729\n",
      "The Cube of 10 is = 1000\n",
      "The Cube of 11 is = 1331\n",
      "The Cube of 12 is = 1728\n",
      "The Cube of 13 is = 2197\n",
      "The Cube of 14 is = 2744\n",
      "The Cube of 15 is = 3375\n",
      "The Cube of 16 is = 4096\n",
      "The Cube of 17 is = 4913\n",
      "The Cube of 18 is = 5832\n",
      "The Cube of 19 is = 6859\n",
      "The Cube of 20 is = 8000\n"
     ]
    }
   ],
   "source": [
    "# Write a program that computes the cube of numbers between 1 and 20\n",
    "# eg 1,2,3,4,5,...,20 and thier cubes are 1,8,27,64,125,...,8000\n",
    "for i in range(1,21):\n",
    "    Cube = i**3\n",
    "    print('The Cube of',i,'is =', Cube)"
   ]
  },
  {
   "cell_type": "code",
   "execution_count": null,
   "id": "e4c13d13",
   "metadata": {},
   "outputs": [],
   "source": []
  }
 ],
 "metadata": {
  "kernelspec": {
   "display_name": "Python 3 (ipykernel)",
   "language": "python",
   "name": "python3"
  },
  "language_info": {
   "codemirror_mode": {
    "name": "ipython",
    "version": 3
   },
   "file_extension": ".py",
   "mimetype": "text/x-python",
   "name": "python",
   "nbconvert_exporter": "python",
   "pygments_lexer": "ipython3",
   "version": "3.9.7"
  }
 },
 "nbformat": 4,
 "nbformat_minor": 5
}
