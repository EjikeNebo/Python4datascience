{
 "cells": [
  {
   "cell_type": "code",
   "execution_count": 5,
   "id": "c23255e3",
   "metadata": {},
   "outputs": [
    {
     "name": "stdout",
     "output_type": "stream",
     "text": [
      "The BMI of a 10yr old boy is 23.661438615467823\n"
     ]
    }
   ],
   "source": [
    "Age = 10\n",
    "weight = 70\n",
    "Height = 1.72\n",
    "w = weight\n",
    "H = Height\n",
    "\n",
    "BMI = w/(H**2)\n",
    "print ('The BMI of a ' + '' + str(Age) + '' + 'yr old boy is ' + str(BMI))"
   ]
  },
  {
   "cell_type": "code",
   "execution_count": null,
   "id": "1f8ccb77",
   "metadata": {},
   "outputs": [],
   "source": []
  }
 ],
 "metadata": {
  "kernelspec": {
   "display_name": "Python 3 (ipykernel)",
   "language": "python",
   "name": "python3"
  },
  "language_info": {
   "codemirror_mode": {
    "name": "ipython",
    "version": 3
   },
   "file_extension": ".py",
   "mimetype": "text/x-python",
   "name": "python",
   "nbconvert_exporter": "python",
   "pygments_lexer": "ipython3",
   "version": "3.9.7"
  }
 },
 "nbformat": 4,
 "nbformat_minor": 5
}
