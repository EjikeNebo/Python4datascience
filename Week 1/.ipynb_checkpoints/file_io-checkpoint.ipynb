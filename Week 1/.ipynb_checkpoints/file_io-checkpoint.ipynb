{
 "cells": [
  {
   "cell_type": "code",
   "execution_count": 14,
   "id": "3ae9160d",
   "metadata": {},
   "outputs": [
    {
     "name": "stdout",
     "output_type": "stream",
     "text": [
      "This is the first line for Text Document\n",
      "Created by Ejike Nebo\n",
      "On Sunday, 30th April, 2023\n",
      "For the Python Class.\n",
      "Thanks- Additional text added\n",
      "- Additional text added\n",
      "- I would like to try this again\n",
      "- and again\n",
      "\n",
      "\n",
      "- but like this now\n"
     ]
    }
   ],
   "source": [
    "file_obj = open(\"C:/Users/HP/Desktop/Python for Data Science 2/Week 1/python_file.txt\", 'r')\n",
    "my_text = file_obj.read()\n",
    "file_obj.close()\n",
    "print(my_text)"
   ]
  },
  {
   "cell_type": "code",
   "execution_count": 13,
   "id": "c17d14df",
   "metadata": {},
   "outputs": [
    {
     "name": "stdout",
     "output_type": "stream",
     "text": [
      "\n"
     ]
    }
   ],
   "source": [
    "file_obj = open(\"C:/Users/HP/Desktop/Python for Data Science 2/Week 1/python_file.txt\", 'a+')\n",
    "file_obj.write('\\n\\n\\n- but like this now')  -->># Note that I used \\n to enter another line up to line 3\n",
    "my_text = file_obj.read()\n",
    "file_obj.close()\n",
    "print(my_text)"
   ]
  },
  {
   "cell_type": "code",
   "execution_count": 21,
   "id": "1609fa52",
   "metadata": {},
   "outputs": [
    {
     "name": "stdout",
     "output_type": "stream",
     "text": [
      "False\n",
      "True\n"
     ]
    }
   ],
   "source": [
    "import os\n",
    "\n",
    "file_check = os.path.exists(\"C:/Users/HP/Desktop/Python for Data Science 2/Week 2/python_file.txt\") -->># see that I changed 'week 1' to 'week 2' hence the return as 'False'\n",
    "print(file_check)\n",
    "\n",
    "import os\n",
    "\n",
    "file_check = os.path.isfile(\"C:/Users/HP/Desktop/Python for Data Science 2/Week 1/python_file.txt\")\n",
    "print(file_check)"
   ]
  },
  {
   "cell_type": "code",
   "execution_count": 20,
   "id": "d12fbefd",
   "metadata": {},
   "outputs": [
    {
     "name": "stdout",
     "output_type": "stream",
     "text": [
      "True\n"
     ]
    }
   ],
   "source": [
    "import os\n",
    "\n",
    "file_check1 = os.path.isfile(\"C:/Users/HP/Desktop/Python for Data Science 2/Week 1/python_file.txt\")\n",
    "print(file_check1)"
   ]
  },
  {
   "cell_type": "code",
   "execution_count": null,
   "id": "7c26c7db",
   "metadata": {},
   "outputs": [],
   "source": []
  }
 ],
 "metadata": {
  "kernelspec": {
   "display_name": "Python 3 (ipykernel)",
   "language": "python",
   "name": "python3"
  },
  "language_info": {
   "codemirror_mode": {
    "name": "ipython",
    "version": 3
   },
   "file_extension": ".py",
   "mimetype": "text/x-python",
   "name": "python",
   "nbconvert_exporter": "python",
   "pygments_lexer": "ipython3",
   "version": "3.9.7"
  }
 },
 "nbformat": 4,
 "nbformat_minor": 5
}
